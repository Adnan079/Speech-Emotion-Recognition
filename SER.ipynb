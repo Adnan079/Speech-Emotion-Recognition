{
 "cells": [
  {
   "cell_type": "markdown",
   "id": "51a41388-0032-41be-854b-17fe2d2192ac",
   "metadata": {},
   "source": [
    "# Import Libraries"
   ]
  },
  {
   "cell_type": "code",
   "execution_count": 1,
   "id": "112a1d2d-507f-411e-b086-d172a9253ec7",
   "metadata": {},
   "outputs": [],
   "source": [
    "import pandas as pd\n",
    "import numpy as np\n",
    "import seaborn as sns\n",
    "import matplotlib.pyplot as plt\n",
    "import librosa\n",
    "import soundfile\n",
    "import os, glob, pickle\n",
    "import resampy\n",
    "from sklearn.svm import SVC\n",
    "from sklearn.model_selection import train_test_split\n",
    "from sklearn.neural_network import MLPClassifier\n",
    "from sklearn.cluster import KMeans\n",
    "from sklearn.preprocessing import StandardScaler\n",
    "from sklearn.metrics import accuracy_score\n",
    "from sklearn.metrics import classification_report\n",
    "from sklearn.metrics import confusion_matrix"
   ]
  },
  {
   "cell_type": "markdown",
   "id": "8aa51886-6877-4d89-bfc8-1afd08d49da6",
   "metadata": {},
   "source": [
    "# Feature Extraction (MFCC, Chroma, Mel) from a SoundFile"
   ]
  },
  {
   "cell_type": "markdown",
   "id": "87835f48-b2a1-4e7d-b024-3ae301bffb3f",
   "metadata": {},
   "source": [
    "- MFCCs: Capture the spectral characteristics of a sound signal, often used in speech and speaker recognition.\n",
    "- Chroma: Describe the harmonic content of an audio signal, commonly used in speech analysis tasks.\n",
    "- Mel Spectrogram: Represents the frequency content of an audio signal in a way that aligns with human auditory perception. It is often used for visualization and feature extraction in speech and audio processing tasks.\n",
    "- The Short-Time Fourier Transform (STFT) is a technique used in signal processing to analyze how the frequency content of a signal evolves over time.\n",
    "- axis=0: Specifies that the operation should be performed along the vertical axis, meaning the operation is applied to each column separately, treating the columns as independent entities."
   ]
  },
  {
   "cell_type": "code",
   "execution_count": 2,
   "id": "3bece8e6-3b04-46e8-acb8-824e40f390c6",
   "metadata": {},
   "outputs": [],
   "source": [
    "def extract_feature(file_name, mfcc, chroma, mel):\n",
    "    # Load audio file using librosa\n",
    "    # The loaded audio signal is stored in the variable X, and the sample rate of the audio file is stored in sample_rate.\n",
    "    X, sample_rate = librosa.load(os.path.join(file_name), res_type=\"scipy\")\n",
    "    # If chroma is requested, calculate the short-time Fourier transform (stft)\n",
    "    if chroma:\n",
    "        stft = np.abs(librosa.stft(X)) # The absolute values of the STFT are taken using np.abs and stored in the variable stft\n",
    "     # Initialize an empty array to store the extracted features\n",
    "    result = np.array([])\n",
    "    # If MFCC is requested, calculate and append to the result array\n",
    "    if mfcc:\n",
    "        mfccs = np.mean(librosa.feature.mfcc(y=X, sr=sample_rate,  n_mfcc=40).T, axis=0)\n",
    "        result = np.hstack((result, mfccs))\n",
    "    # If chroma is requested, calculate and append to the result array\n",
    "    if chroma:\n",
    "        chroma = np.mean(librosa.feature.chroma_stft(S=stft, sr=sample_rate).T, axis=0)\n",
    "        result = np.hstack((result, chroma))\n",
    "    # If mel is requested, calculate and append to the result array\n",
    "    if mel:\n",
    "        mel = np.mean(librosa.feature.melspectrogram(y=X, sr=sample_rate).T, axis=0)\n",
    "        result = np.hstack((result, mel))\n",
    "    return result"
   ]
  },
  {
   "cell_type": "code",
   "execution_count": 3,
   "id": "1217a59d-2222-45bb-96c3-9368230012d2",
   "metadata": {},
   "outputs": [],
   "source": [
    "emotions = {\n",
    "    \"01\":\"Neutral\",\n",
    "    \"02\":\"Calm\",\n",
    "    \"03\":\"Happy\",\n",
    "    \"04\":\"Sad\",\n",
    "    \"05\":\"Angry\",\n",
    "    \"06\":\"Fearful\",\n",
    "    \"07\":\"Disgust\",\n",
    "    \"08\":\"Surprised\",\n",
    "}\n",
    "# Emotion to be observed\n",
    "observed_emotions = [\"Calm\", \"Happy\", \"Fearful\"]"
   ]
  },
  {
   "cell_type": "markdown",
   "id": "6d34f088-27cb-4fbb-bbda-9054e1ec2606",
   "metadata": {},
   "source": [
    "# Load Data and Extract Feature for each soundfile"
   ]
  },
  {
   "cell_type": "code",
   "execution_count": 6,
   "id": "0253f8db-4f1f-4988-b81d-5a73e4ece93b",
   "metadata": {},
   "outputs": [],
   "source": [
    "# @title Load the data & Extract features for each Soundfile\n",
    "def load_data(path, test_size = 0.3):\n",
    "    # Initialize empty lists for storing features and labels\n",
    "    x,y = [],[]\n",
    "    #Iterate over each file in the specified path\n",
    "    for file in glob.glob(path):\n",
    "        # Get the base name of the current file\n",
    "        file_name = os.path.basename(file)\n",
    "        # Extract the emotion label from the file name\n",
    "        emotion = emotions[file_name.split(\"-\")[2]]\n",
    "        if emotion not in observed_emotions:\n",
    "            continue\n",
    "         # Extract features from the current audio file\n",
    "        feature = extract_feature(file, mfcc=True, chroma=True, mel=True)\n",
    "        x.append(feature)\n",
    "        y.append(emotion)\n",
    "     # Split the data into training and testing sets and return the four resulting arrays\n",
    "    return train_test_split(np.array(x), np.array(y), test_size=test_size, random_state=3)"
   ]
  },
  {
   "cell_type": "code",
   "execution_count": 9,
   "id": "4822e00b-8982-4b00-b629-2ba74f91a348",
   "metadata": {
    "scrolled": true
   },
   "outputs": [],
   "source": [
    "files_path = \"C:\\\\Users\\\\Lenovo\\\\Desktop\\\\ML Project\\\\RAVDESS2\\\\Actor_*\\\\*.wav\"\n",
    "X_train, X_test, Y_train, Y_test = load_data(files_path, test_size = 0.35)"
   ]
  },
  {
   "cell_type": "code",
   "execution_count": 10,
   "id": "b359f36f-5e2d-48e5-b8d2-84cca6473001",
   "metadata": {},
   "outputs": [
    {
     "name": "stdout",
     "output_type": "stream",
     "text": [
      "Data saved to extracted_features_and_emotions.csv\n"
     ]
    }
   ],
   "source": [
    "# Save features and emotions to a CSV file\n",
    "data = pd.DataFrame(X_train, columns=[f'feature_{i+1}' for i in range(X_train.shape[1])])\n",
    "data['emotion'] = Y_train\n",
    "\n",
    "# Save to CSV\n",
    "csv_filename = \"extracted_features_and_emotions.csv\"\n",
    "data.to_csv(csv_filename, index=False)\n",
    "\n",
    "print(f\"Data saved to {csv_filename}\")"
   ]
  },
  {
   "cell_type": "markdown",
   "id": "6834e94b-43e4-4f9a-9d0c-8ebfcf4c04e5",
   "metadata": {},
   "source": [
    "# Data Visualization"
   ]
  },
  {
   "cell_type": "code",
   "execution_count": 11,
   "id": "b719086d-478c-4430-9704-5dd76898c3d4",
   "metadata": {},
   "outputs": [
    {
     "data": {
      "image/png": "[encoded data removed]",
      "text/plain": [
       "<Figure size 800x600 with 1 Axes>"
      ]
     },
     "metadata": {},
     "output_type": "display_data"
    }
   ],
   "source": [
    "df = pd.DataFrame(data={'Emotion': Y_train})\n",
    "\n",
    "#Plot the class distribution\n",
    "plt.figure(figsize=(8, 6))\n",
    "sns.countplot(x='Emotion', data=df, palette='viridis')\n",
    "plt.title('Class Distribution')\n",
    "plt.show()"
   ]
  },
  {
   "cell_type": "markdown",
   "id": "e8faa8ba-52e9-4266-bdc2-cd82fe220b4c",
   "metadata": {},
   "source": [
    "# Multi-Layer Perceptron (MLP)"
   ]
  },
  {
   "cell_type": "code",
   "execution_count": 30,
   "id": "61127e7e-aa25-415c-ad36-3dde0ee6106c",
   "metadata": {},
   "outputs": [],
   "source": [
    "model = MLPClassifier(alpha=0.01, batch_size=256, hidden_layer_sizes=(300,), learning_rate=\"adaptive\", max_iter=600)"
   ]
  },
  {
   "cell_type": "code",
   "execution_count": 31,
   "id": "7d51b45a-beb3-4416-af13-2a50935b870a",
   "metadata": {},
   "outputs": [
    {
     "name": "stdout",
     "output_type": "stream",
     "text": [
      "Accuracy: 85.15%\n"
     ]
    },
    {
     "name": "stderr",
     "output_type": "stream",
     "text": [
      "C:\\Users\\Lenovo\\anaconda3\\Lib\\site-packages\\sklearn\\neural_network\\_multilayer_perceptron.py:686: ConvergenceWarning: Stochastic Optimizer: Maximum iterations (600) reached and the optimization hasn't converged yet.\n",
      "  warnings.warn(\n"
     ]
    }
   ],
   "source": [
    "model.fit(X_train, Y_train)\n",
    "Y_pred = model.predict(X_test)\n",
    "accuracy = accuracy_score(y_true=Y_test, y_pred=Y_pred)\n",
    "print(\"Accuracy: {:.2f}%\".format(accuracy*100))"
   ]
  },
  {
   "cell_type": "markdown",
   "id": "dcd8bdb5-4ff9-4fde-8b99-68cee179a679",
   "metadata": {},
   "source": [
    "# Classification Report"
   ]
  },
  {
   "cell_type": "code",
   "execution_count": 32,
   "id": "9388c1f0-e665-4ce6-999b-4f43618bc5db",
   "metadata": {},
   "outputs": [
    {
     "name": "stdout",
     "output_type": "stream",
     "text": [
      "              precision    recall  f1-score   support\n",
      "\n",
      "        Calm       0.89      0.91      0.90        68\n",
      "     Fearful       0.86      0.77      0.81        65\n",
      "       Happy       0.81      0.87      0.84        69\n",
      "\n",
      "    accuracy                           0.85       202\n",
      "   macro avg       0.85      0.85      0.85       202\n",
      "weighted avg       0.85      0.85      0.85       202\n",
      "\n"
     ]
    }
   ],
   "source": [
    "print(classification_report(Y_test, Y_pred))"
   ]
  },
  {
   "cell_type": "markdown",
   "id": "63f317b8-ac17-44d7-834f-2e9d31fed366",
   "metadata": {},
   "source": [
    "# Confusion Matrix"
   ]
  },
  {
   "cell_type": "code",
   "execution_count": 26,
   "id": "6af51645-1de2-4009-9690-e9e924b8093b",
   "metadata": {},
   "outputs": [
    {
     "name": "stdout",
     "output_type": "stream",
     "text": [
      "[[38  6  4]\n",
      " [ 2 31  8]\n",
      " [ 3 15 24]]\n"
     ]
    }
   ],
   "source": [
    "matrix = confusion_matrix(Y_test, Y_pred)\n",
    "print(matrix)"
   ]
  },
  {
   "cell_type": "markdown",
   "id": "fe181bdb-a6d1-404d-ad6f-255070cdacab",
   "metadata": {},
   "source": [
    "# Support Vector Machine (SVC)"
   ]
  },
  {
   "cell_type": "code",
   "execution_count": 47,
   "id": "c9463dfc-12d8-4b22-9713-29485bf0bb72",
   "metadata": {},
   "outputs": [],
   "source": [
    "svm_model = SVC(C=1.0, kernel='linear', random_state=9)"
   ]
  },
  {
   "cell_type": "code",
   "execution_count": 43,
   "id": "e5bc3824-903b-43cd-b1d4-f94c74e83887",
   "metadata": {},
   "outputs": [
    {
     "name": "stdout",
     "output_type": "stream",
     "text": [
      "Accuracy Score: 75.74%\n"
     ]
    }
   ],
   "source": [
    "svm_model.fit(X_train, Y_train)\n",
    "Y_pred = svm_model.predict(X_test)\n",
    "accuracy = accuracy_score(Y_test, Y_pred)\n",
    "print(f\"Accuracy Score: {accuracy*100:.2f}%\")"
   ]
  },
  {
   "cell_type": "markdown",
   "id": "07038529-33d0-449d-8b1b-4c48ae79362a",
   "metadata": {},
   "source": [
    "# Predictive Model"
   ]
  },
  {
   "cell_type": "code",
   "execution_count": 46,
   "id": "b887741f-53ee-46eb-91c3-eb8d05198e2d",
   "metadata": {},
   "outputs": [
    {
     "name": "stdout",
     "output_type": "stream",
     "text": [
      "Predicted Emotion: Calm\n"
     ]
    }
   ],
   "source": [
    "# Example for input validation\n",
    "def predict_emotion(file_path):\n",
    "    feature = extract_feature(file_path, mfcc=True, chroma=True, mel=True)\n",
    "    feature = feature.reshape(1, -1)  # Reshape to match the input format expected by the model\n",
    "    emotion = model.predict(feature)[0]\n",
    "    return emotion\n",
    "\n",
    "# Example usage for input validation\n",
    "new_file_path = \"C:/Users/Lenovo/Desktop/ML Project/audio-dataset/A4/03-01-02-02-01-01-04.wav\"\n",
    "predicted_emotion = predict_emotion(new_file_path)\n",
    "print(\"Predicted Emotion:\", predicted_emotion)"
   ]
  }
 ],
 "metadata": {
  "kernelspec": {
   "display_name": "Python 3 (ipykernel)",
   "language": "python",
   "name": "python3"
  },
  "language_info": {
   "codemirror_mode": {
    "name": "ipython",
    "version": 3
   },
   "file_extension": ".py",
   "mimetype": "text/x-python",
   "name": "python",
   "nbconvert_exporter": "python",
   "pygments_lexer": "ipython3",
   "version": "3.11.5"
  }
 },
 "nbformat": 4,
 "nbformat_minor": 5
}
